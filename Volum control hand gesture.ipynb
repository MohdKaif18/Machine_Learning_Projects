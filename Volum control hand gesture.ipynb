{
 "cells": [
  {
   "cell_type": "code",
   "execution_count": null,
   "id": "d4ef93d8",
   "metadata": {},
   "outputs": [],
   "source": [
    "import cv2\n",
    "import mediapipe as mp\n",
    "import pyautogui\n",
    "\n",
    "#  open webcam\n",
    "my_webcam = cv2.VideoCapture(0)  # '0' is for default laptop camera\n",
    "if not my_webcam.isOpened():\n",
    "    print(\"Cannot Open Webcamera.\")\n",
    "    exit()\n",
    "\n",
    "#  create an object for hand tracking from 'solutions' module.\n",
    "my_hands = mp.solutions.hands.Hands()\n",
    "\n",
    "#  create an object for drawing utils or points in image using 'solutions' module.\n",
    "utils = mp.solutions.drawing_utils\n",
    "\n",
    "#  create a loop to continuously read the frames\n",
    "while True:\n",
    "    #  capture frame by frame.\n",
    "    success, image = my_webcam.read()\n",
    "    #  if not true print error statement.\n",
    "    if not success:\n",
    "        print(\"Cannot read frame.\")\n",
    "        break\n",
    "    #  convert the image from BGR to RGB format.\n",
    "    image_RGB = cv2.cvtColor(image, cv2.COLOR_BGR2RGB)\n",
    "    #  determining the height, width, channel(success) from shape of image.\n",
    "    frame_height, frame_width , success = image.shape\n",
    "    #  we will now store the hand markings in the variable called 'output'.\n",
    "    #  'output' only accepts rgb image format.\n",
    "    output = my_hands.process(image_RGB)\n",
    "    #  storing hand landmark for every hand in the webcam to variable 'hands'.\n",
    "    hands = output.multi_hand_landmarks\n",
    "    # creating a statement for hands detection.\n",
    "    if hands:\n",
    "        for hand in hands:\n",
    "            utils.draw_landmarks(image, hand)  # draw utils on every hand detected in hands.\n",
    "            landmarks = hand.landmark  # store the landmark of each hand in variable landmarks.\n",
    "            for id, landmark in enumerate(landmarks):\n",
    "                x = int(landmark.x * frame_width)\n",
    "                y = int(landmark.y * frame_height)\n",
    "                if id == 8:\n",
    "                    cv2.circle(img=image, center=(x, y), radius=8, color=(0, 255, 255), thickness=3)\n",
    "                    x1 = x\n",
    "                    y1 = y\n",
    "                if id == 4:\n",
    "                    cv2.circle(img=image, center=(x, y), radius=8, color=(0, 255, 255), thickness=3)\n",
    "                    x2 = x\n",
    "                    y2 = y\n",
    "        distance = ((x2 - x1) ** 2 + (y2 - y1) ** 2) ** 0.5 // 4\n",
    "        cv2.line(image, (x1, y1), (x2, y2), (0, 255, 0), 5)\n",
    "\n",
    "        #  adjust volume based on distance.\n",
    "        if distance > 50 :\n",
    "            pyautogui.press(\"volumeup\")\n",
    "        else:\n",
    "            pyautogui.press(\"volumedown\")\n",
    "\n",
    "    cv2.imshow(\"Hand Brightness Control\", image)\n",
    "    key = cv2.waitKey(10)\n",
    "    if key == 27:\n",
    "        break\n",
    "\n",
    "my_webcam.release()\n",
    "cv2.destroyAllWindows()"
   ]
  },
  {
   "cell_type": "code",
   "execution_count": null,
   "id": "0a95e1eb",
   "metadata": {},
   "outputs": [],
   "source": []
  },
  {
   "cell_type": "code",
   "execution_count": null,
   "id": "9f35d315",
   "metadata": {},
   "outputs": [],
   "source": []
  },
  {
   "cell_type": "code",
   "execution_count": null,
   "id": "65ed9cd2",
   "metadata": {},
   "outputs": [],
   "source": []
  },
  {
   "cell_type": "code",
   "execution_count": null,
   "id": "aa972142",
   "metadata": {},
   "outputs": [],
   "source": []
  },
  {
   "cell_type": "code",
   "execution_count": null,
   "id": "29a52bf5",
   "metadata": {},
   "outputs": [],
   "source": [
    "\n"
   ]
  },
  {
   "cell_type": "code",
   "execution_count": null,
   "id": "e25b98fd",
   "metadata": {},
   "outputs": [],
   "source": []
  },
  {
   "cell_type": "code",
   "execution_count": null,
   "id": "0059c2db",
   "metadata": {},
   "outputs": [],
   "source": []
  },
  {
   "cell_type": "code",
   "execution_count": null,
   "id": "2437e707",
   "metadata": {},
   "outputs": [],
   "source": []
  },
  {
   "cell_type": "code",
   "execution_count": null,
   "id": "25e38e61",
   "metadata": {},
   "outputs": [],
   "source": []
  },
  {
   "cell_type": "code",
   "execution_count": null,
   "id": "b3011127",
   "metadata": {},
   "outputs": [],
   "source": []
  },
  {
   "cell_type": "code",
   "execution_count": null,
   "id": "203ce01f",
   "metadata": {},
   "outputs": [],
   "source": [
    "\n"
   ]
  },
  {
   "cell_type": "code",
   "execution_count": null,
   "id": "e9539f99",
   "metadata": {},
   "outputs": [],
   "source": []
  },
  {
   "cell_type": "code",
   "execution_count": null,
   "id": "dba6bb74",
   "metadata": {},
   "outputs": [],
   "source": []
  },
  {
   "cell_type": "code",
   "execution_count": null,
   "id": "c9686634",
   "metadata": {},
   "outputs": [],
   "source": []
  },
  {
   "cell_type": "code",
   "execution_count": null,
   "id": "1287d8ad",
   "metadata": {},
   "outputs": [],
   "source": []
  },
  {
   "cell_type": "code",
   "execution_count": null,
   "id": "9a8b7967",
   "metadata": {},
   "outputs": [],
   "source": []
  }
 ],
 "metadata": {
  "kernelspec": {
   "display_name": "Python 3 (ipykernel)",
   "language": "python",
   "name": "python3"
  },
  "language_info": {
   "codemirror_mode": {
    "name": "ipython",
    "version": 3
   },
   "file_extension": ".py",
   "mimetype": "text/x-python",
   "name": "python",
   "nbconvert_exporter": "python",
   "pygments_lexer": "ipython3",
   "version": "3.9.18"
  }
 },
 "nbformat": 4,
 "nbformat_minor": 5
}
