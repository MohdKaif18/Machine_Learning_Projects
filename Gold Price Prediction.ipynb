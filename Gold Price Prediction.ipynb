{
 "cells": [
  {
   "cell_type": "code",
   "execution_count": null,
   "id": "0a95e1eb",
   "metadata": {},
   "outputs": [],
   "source": [
    "import pandas as pd\n",
    "import numpy as np\n",
    "import matplotlib.pyplot as plt\n",
    "import seaborn as sns\n",
    "from sklearn.model_selection import train_test_split\n",
    "from sklearn.ensemble import RandomForestRegressor\n",
    "from sklearn import metrics\n",
    "\n",
    "## Data Collecting and Processing ##\n",
    "\n",
    "# Converting the data from 'csv' format to 'Dataframe' using pandas.\n",
    "gold_data = pd.read_csv(\"gld_price_data.csv\")\n",
    "\n",
    "# Insights of the dataset.\n",
    "print(gold_data.head())  # prints the first five rows of the dataset.\n",
    "print(gold_data.tail())  # prints the last five rows of the dataset.\n",
    "print(gold_data.columns)  # prints the headings or column names of the dataset.\n",
    "print(gold_data.shape)  # specifies the number of columns and rows in the dataset.\n",
    "print(gold_data.info())  # short information of the dataset regarding their structure and datatypes.\n",
    "\n",
    "# Check for the missing values in dataset.\n",
    "print(gold_data.isnull().sum())\n",
    "\n",
    "# Statistical description of the data.\n",
    "print(gold_data.describe())\n",
    "\n",
    "# Finding the correlation between the variables.\n",
    "gold_data['Date'] = pd.to_datetime(gold_data['Date'], format='%m/%d/%Y')  # converting the 'Date' column to '%m/%d/%Y'.\n",
    "gold_correlation = gold_data.corr()\n",
    "\n",
    "# Plotting a heatmap of the dataset.\n",
    "plt.figure(figsize=(8,8))\n",
    "sns.heatmap(gold_correlation,cbar=True,square=True,fmt='.1f',annot=True,annot_kws={'size':8},cmap='Blues')\n",
    "plt.show()  # uncomment to see the heatmap.\n",
    "\n",
    "# Finding the 'GLD' correlation with other variables in the frame.\n",
    "print(gold_correlation['GLD'])\n",
    "\n",
    "# Plotting the distribution of 'GLD'\n",
    "sns.distplot(gold_data['GLD'],kde=True,bins=20,color=\"green\")\n",
    "plt.show()\n",
    "\n",
    "\n",
    "# Splitting Features and Target.\n",
    "X = gold_data.drop(['Date','GLD'],axis=1)  # remove the 'Date' and 'GLD' column from the Dataframe.\n",
    "Y = gold_data['GLD']\n",
    "\n",
    "# Splitting into training and test data.\n",
    "X_test, X_train, Y_test, Y_train = train_test_split(X,Y,test_size=0.2,random_state=2)\n",
    "\n",
    "# Model Training: Random Forest Regressor\n",
    "regressor = RandomForestRegressor(n_estimators=100)  # generates the random forest regressor of 100 decision trees.\n",
    "regressor.fit(X_train,Y_train)  # generates a model for following values of features and target.\n",
    "\n",
    "## Model Evaluation ##\n",
    "\n",
    "# Prediction on test data.\n",
    "test_data_prediction = regressor.predict(X_test)  # predicts the target variables for values of features.\n",
    "\n",
    "# Estimating the sum of squares or R square error.\n",
    "error_score = metrics.r2_score(Y_test,test_data_prediction)\n",
    "print(error_score)\n",
    "\n",
    "# Conversion of Y-test values to list.\n",
    "Y_test = list(Y_test)\n",
    "\n",
    "# Final Result:\n",
    "plt.plot(Y_test,color='black',label=\"Actual Value\")\n",
    "plt.plot(test_data_prediction,color='red',label=\"Predicted Value\")\n",
    "plt.title(\"Actual Price vs Predicted Price\")\n",
    "plt.xlabel(\"Number Of Values\")\n",
    "plt.ylabel(\"Gold Price\")\n",
    "plt.legend()\n",
    "plt.show()"
   ]
  },
  {
   "cell_type": "code",
   "execution_count": null,
   "id": "9f35d315",
   "metadata": {},
   "outputs": [],
   "source": []
  },
  {
   "cell_type": "code",
   "execution_count": null,
   "id": "65ed9cd2",
   "metadata": {},
   "outputs": [],
   "source": []
  },
  {
   "cell_type": "code",
   "execution_count": null,
   "id": "aa972142",
   "metadata": {},
   "outputs": [],
   "source": []
  },
  {
   "cell_type": "code",
   "execution_count": null,
   "id": "29a52bf5",
   "metadata": {},
   "outputs": [],
   "source": [
    "\n"
   ]
  },
  {
   "cell_type": "code",
   "execution_count": null,
   "id": "e25b98fd",
   "metadata": {},
   "outputs": [],
   "source": []
  },
  {
   "cell_type": "code",
   "execution_count": null,
   "id": "0059c2db",
   "metadata": {},
   "outputs": [],
   "source": []
  },
  {
   "cell_type": "code",
   "execution_count": null,
   "id": "2437e707",
   "metadata": {},
   "outputs": [],
   "source": []
  },
  {
   "cell_type": "code",
   "execution_count": null,
   "id": "25e38e61",
   "metadata": {},
   "outputs": [],
   "source": []
  },
  {
   "cell_type": "code",
   "execution_count": null,
   "id": "b3011127",
   "metadata": {},
   "outputs": [],
   "source": []
  },
  {
   "cell_type": "code",
   "execution_count": null,
   "id": "203ce01f",
   "metadata": {},
   "outputs": [],
   "source": [
    "\n"
   ]
  },
  {
   "cell_type": "code",
   "execution_count": null,
   "id": "e9539f99",
   "metadata": {},
   "outputs": [],
   "source": []
  },
  {
   "cell_type": "code",
   "execution_count": null,
   "id": "dba6bb74",
   "metadata": {},
   "outputs": [],
   "source": []
  },
  {
   "cell_type": "code",
   "execution_count": null,
   "id": "c9686634",
   "metadata": {},
   "outputs": [],
   "source": []
  },
  {
   "cell_type": "code",
   "execution_count": null,
   "id": "1287d8ad",
   "metadata": {},
   "outputs": [],
   "source": []
  },
  {
   "cell_type": "code",
   "execution_count": null,
   "id": "9a8b7967",
   "metadata": {},
   "outputs": [],
   "source": []
  }
 ],
 "metadata": {
  "kernelspec": {
   "display_name": "Python 3 (ipykernel)",
   "language": "python",
   "name": "python3"
  },
  "language_info": {
   "codemirror_mode": {
    "name": "ipython",
    "version": 3
   },
   "file_extension": ".py",
   "mimetype": "text/x-python",
   "name": "python",
   "nbconvert_exporter": "python",
   "pygments_lexer": "ipython3",
   "version": "3.9.18"
  }
 },
 "nbformat": 4,
 "nbformat_minor": 5
}
